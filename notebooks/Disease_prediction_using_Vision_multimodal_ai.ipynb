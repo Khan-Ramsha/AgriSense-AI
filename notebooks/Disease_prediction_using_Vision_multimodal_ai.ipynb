{
 "cells": [
  {
   "cell_type": "code",
   "execution_count": 2,
   "metadata": {
    "id": "XcLzuhcfX4Qb"
   },
   "outputs": [
    {
     "name": "stdout",
     "output_type": "stream",
     "text": [
      "Requirement already satisfied: pillow in c:\\users\\ramsha\\appdata\\local\\programs\\python\\python312\\lib\\site-packages (11.0.0)\n",
      "Note: you may need to restart the kernel to use updated packages.\n"
     ]
    },
    {
     "name": "stderr",
     "output_type": "stream",
     "text": [
      "\n",
      "[notice] A new release of pip is available: 24.0 -> 24.3.1\n",
      "[notice] To update, run: python.exe -m pip install --upgrade pip\n"
     ]
    },
    {
     "name": "stdout",
     "output_type": "stream",
     "text": [
      "Requirement already satisfied: ibm_watsonx_ai>=1.1.14 in c:\\users\\ramsha\\appdata\\local\\programs\\python\\python312\\lib\\site-packages (1.2.1)Note: you may need to restart the kernel to use updated packages.\n",
      "\n",
      "Requirement already satisfied: requests in c:\\users\\ramsha\\appdata\\local\\programs\\python\\python312\\lib\\site-packages (from ibm_watsonx_ai>=1.1.14) (2.32.2)\n",
      "Requirement already satisfied: httpx in c:\\users\\ramsha\\appdata\\local\\programs\\python\\python312\\lib\\site-packages (from ibm_watsonx_ai>=1.1.14) (0.28.1)\n",
      "Requirement already satisfied: urllib3 in c:\\users\\ramsha\\appdata\\local\\programs\\python\\python312\\lib\\site-packages (from ibm_watsonx_ai>=1.1.14) (2.2.3)\n",
      "Requirement already satisfied: pandas<2.2.0,>=0.24.2 in c:\\users\\ramsha\\appdata\\local\\programs\\python\\python312\\lib\\site-packages (from ibm_watsonx_ai>=1.1.14) (2.1.4)\n",
      "Requirement already satisfied: certifi in c:\\users\\ramsha\\appdata\\local\\programs\\python\\python312\\lib\\site-packages (from ibm_watsonx_ai>=1.1.14) (2024.8.30)\n",
      "Requirement already satisfied: lomond in c:\\users\\ramsha\\appdata\\local\\programs\\python\\python312\\lib\\site-packages (from ibm_watsonx_ai>=1.1.14) (0.3.3)\n",
      "Requirement already satisfied: tabulate in c:\\users\\ramsha\\appdata\\local\\programs\\python\\python312\\lib\\site-packages (from ibm_watsonx_ai>=1.1.14) (0.9.0)\n",
      "Requirement already satisfied: packaging in c:\\users\\ramsha\\appdata\\local\\programs\\python\\python312\\lib\\site-packages (from ibm_watsonx_ai>=1.1.14) (24.2)\n",
      "Requirement already satisfied: ibm-cos-sdk<2.14.0,>=2.12.0 in c:\\users\\ramsha\\appdata\\local\\programs\\python\\python312\\lib\\site-packages (from ibm_watsonx_ai>=1.1.14) (2.13.6)\n",
      "Requirement already satisfied: importlib-metadata in c:\\users\\ramsha\\appdata\\local\\programs\\python\\python312\\lib\\site-packages (from ibm_watsonx_ai>=1.1.14) (8.5.0)\n",
      "Requirement already satisfied: ibm-cos-sdk-core==2.13.6 in c:\\users\\ramsha\\appdata\\local\\programs\\python\\python312\\lib\\site-packages (from ibm-cos-sdk<2.14.0,>=2.12.0->ibm_watsonx_ai>=1.1.14) (2.13.6)\n",
      "Requirement already satisfied: ibm-cos-sdk-s3transfer==2.13.6 in c:\\users\\ramsha\\appdata\\local\\programs\\python\\python312\\lib\\site-packages (from ibm-cos-sdk<2.14.0,>=2.12.0->ibm_watsonx_ai>=1.1.14) (2.13.6)\n",
      "Requirement already satisfied: jmespath<=1.0.1,>=0.10.0 in c:\\users\\ramsha\\appdata\\local\\programs\\python\\python312\\lib\\site-packages (from ibm-cos-sdk<2.14.0,>=2.12.0->ibm_watsonx_ai>=1.1.14) (1.0.1)\n",
      "Requirement already satisfied: python-dateutil<3.0.0,>=2.9.0 in c:\\users\\ramsha\\appdata\\local\\programs\\python\\python312\\lib\\site-packages (from ibm-cos-sdk-core==2.13.6->ibm-cos-sdk<2.14.0,>=2.12.0->ibm_watsonx_ai>=1.1.14) (2.9.0.post0)\n",
      "Requirement already satisfied: numpy<2,>=1.26.0 in c:\\users\\ramsha\\appdata\\local\\programs\\python\\python312\\lib\\site-packages (from pandas<2.2.0,>=0.24.2->ibm_watsonx_ai>=1.1.14) (1.26.4)\n",
      "Requirement already satisfied: pytz>=2020.1 in c:\\users\\ramsha\\appdata\\local\\programs\\python\\python312\\lib\\site-packages (from pandas<2.2.0,>=0.24.2->ibm_watsonx_ai>=1.1.14) (2024.2)\n",
      "Requirement already satisfied: tzdata>=2022.1 in c:\\users\\ramsha\\appdata\\local\\programs\\python\\python312\\lib\\site-packages (from pandas<2.2.0,>=0.24.2->ibm_watsonx_ai>=1.1.14) (2024.2)\n",
      "Requirement already satisfied: charset-normalizer<4,>=2 in c:\\users\\ramsha\\appdata\\local\\programs\\python\\python312\\lib\\site-packages (from requests->ibm_watsonx_ai>=1.1.14) (3.4.0)\n",
      "Requirement already satisfied: idna<4,>=2.5 in c:\\users\\ramsha\\appdata\\local\\programs\\python\\python312\\lib\\site-packages (from requests->ibm_watsonx_ai>=1.1.14) (3.10)\n",
      "Requirement already satisfied: anyio in c:\\users\\ramsha\\appdata\\local\\programs\\python\\python312\\lib\\site-packages (from httpx->ibm_watsonx_ai>=1.1.14) (4.7.0)\n",
      "Requirement already satisfied: httpcore==1.* in c:\\users\\ramsha\\appdata\\local\\programs\\python\\python312\\lib\\site-packages (from httpx->ibm_watsonx_ai>=1.1.14) (1.0.7)\n",
      "Requirement already satisfied: h11<0.15,>=0.13 in c:\\users\\ramsha\\appdata\\local\\programs\\python\\python312\\lib\\site-packages (from httpcore==1.*->httpx->ibm_watsonx_ai>=1.1.14) (0.14.0)\n",
      "Requirement already satisfied: zipp>=3.20 in c:\\users\\ramsha\\appdata\\local\\programs\\python\\python312\\lib\\site-packages (from importlib-metadata->ibm_watsonx_ai>=1.1.14) (3.21.0)\n",
      "Requirement already satisfied: six>=1.10.0 in c:\\users\\ramsha\\appdata\\local\\programs\\python\\python312\\lib\\site-packages (from lomond->ibm_watsonx_ai>=1.1.14) (1.17.0)\n",
      "Requirement already satisfied: sniffio>=1.1 in c:\\users\\ramsha\\appdata\\local\\programs\\python\\python312\\lib\\site-packages (from anyio->httpx->ibm_watsonx_ai>=1.1.14) (1.3.1)\n",
      "Requirement already satisfied: typing_extensions>=4.5 in c:\\users\\ramsha\\appdata\\local\\programs\\python\\python312\\lib\\site-packages (from anyio->httpx->ibm_watsonx_ai>=1.1.14) (4.12.2)\n"
     ]
    },
    {
     "name": "stderr",
     "output_type": "stream",
     "text": [
      "\n",
      "[notice] A new release of pip is available: 24.0 -> 24.3.1\n",
      "[notice] To update, run: python.exe -m pip install --upgrade pip\n"
     ]
    }
   ],
   "source": [
    "%pip install pillow\n",
    "%pip install -U \"ibm_watsonx_ai>=1.1.14\""
   ]
  },
  {
   "cell_type": "code",
   "execution_count": 3,
   "metadata": {
    "id": "K0IA0MBcX4Qf"
   },
   "outputs": [],
   "source": [
    "#imports\n",
    "import requests\n",
    "import base64\n",
    "import getpass\n",
    "\n",
    "from PIL import Image\n",
    "from ibm_watsonx_ai import Credentials\n",
    "from ibm_watsonx_ai.foundation_models import ModelInference"
   ]
  },
  {
   "cell_type": "code",
   "execution_count": 4,
   "metadata": {
    "id": "BuVVd340X4Qg"
   },
   "outputs": [],
   "source": [
    "WATSONX_EU_APIKEY = (\"KzVEd15JglyLkmlMgJxJp3YR-8uQqFA-vGgcbxMoV_u4\")\n",
    "\n",
    "WATSONX_EU_PROJECT_ID = (\"043ca758-6efc-48f9-ac99-b4cb3fa79773\")\n",
    "\n",
    "URL = \"https://us-south.ml.cloud.ibm.com\""
   ]
  },
  {
   "cell_type": "markdown",
   "metadata": {
    "id": "5uhuwKBXX4Qg"
   },
   "source": [
    "We can use the `Credentials` class to encapsulate our passed credentials."
   ]
  },
  {
   "cell_type": "code",
   "execution_count": 5,
   "metadata": {
    "id": "9Q-AwoWcX4Qg"
   },
   "outputs": [],
   "source": [
    "credentials = Credentials(\n",
    "    url=URL,    \n",
    "    api_key=WATSONX_EU_APIKEY\n",
    ")"
   ]
  },
  {
   "cell_type": "code",
   "execution_count": 15,
   "metadata": {
    "id": "Rz0ptiHfX4Qh"
   },
   "outputs": [],
   "source": [
    "# url_image_1 = 'https://github.com/pratikkayal/PlantDoc-Dataset/blob/master/test/grape%20leaf%20black%20rot/Black%2520rot%2520on%2520foliage2.jpg?raw=true'\n",
    "# url_image_2 = 'https://github.com/pratikkayal/PlantDoc-Dataset/blob/master/test/Tomato%20leaf%20mosaic%20virus/tomato_virus_04_zoom.jpg?raw=true'\n",
    "# url_image_3 = 'https://github.com/pratikkayal/PlantDoc-Dataset/blob/master/test/Bell_pepper%20leaf%20spot/Bacterial-spot-pepper2.jpg?raw=true'\n",
    "# url_image_4 = 'https://github.com/pratikkayal/PlantDoc-Dataset/blob/master/test/Apple%20leaf/20180511_091133-24l1vhg-e1526047988236.jpg?raw=true'\n",
    "# url_image_5 = 'https://github.com/pratikkayal/PlantDoc-Dataset/blob/master/test/Apple%20rust%20leaf/2011-011.jpg?raw=true'\n",
    "url_image_6 = 'https://github.com/pratikkayal/PlantDoc-Dataset/blob/master/test/Apple%20rust%20leaf/0605_Rust-induced_leafspot.jpg?raw=true'\n",
    "# url_image_7 = 'https://github.com/pratikkayal/PlantDoc-Dataset/blob/master/test/Tomato%20leaf%20bacterial%20spot/Tom_Bact3.jpg?raw=true'\n",
    "\n",
    "image_urls = [url_image_6]\n",
    "# ,url_image_2,url_image_3,url_image_4,url_image_5,url_image_6,url_image_7"
   ]
  },
  {
   "cell_type": "markdown",
   "metadata": {
    "id": "sdtgbnV8X4Qi"
   },
   "source": [
    "To gain a better understanding of our data input, let's display the images."
   ]
  },
  {
   "cell_type": "code",
   "execution_count": 2,
   "metadata": {
    "colab": {
     "base_uri": "https://localhost:8080/",
     "height": 800
    },
    "id": "OxZxqiS7X4Qi",
    "outputId": "b08c0389-533c-40b8-ebbf-325a87c478c1"
   },
   "outputs": [],
   "source": [
    "# for idx, url in enumerate(image_urls):\n",
    "#     print(f'url_image_{idx}')\n",
    "#     display(Image.open(requests.get(url, stream=True).raw))"
   ]
  },
  {
   "cell_type": "markdown",
   "metadata": {
    "id": "5l8-P36zX4Qi"
   },
   "source": [
    "To encode these images in a way that is digestible for the LLM, we will be encoding the images to bytes that we then decode to UTF-8 representation."
   ]
  },
  {
   "cell_type": "code",
   "execution_count": 10,
   "metadata": {
    "id": "UYqos_QWX4Qj"
   },
   "outputs": [],
   "source": [
    "encoded_images = []\n",
    "\n",
    "for url in image_urls:\n",
    "    encoded_images.append(base64.b64encode(requests.get(url).content).decode(\"utf-8\"))"
   ]
  },
  {
   "cell_type": "markdown",
   "metadata": {
    "id": "PiXnTLgZX4Qj"
   },
   "source": [
    "## Step 5. Set up the API request and LLM\n",
    "\n",
    "Now that our images can be passed to the LLM, let's set up a function for our watsonx API calls. The `augment_api_request_body` function takes the user query and image as parameters and augments the body of the API request. We will use this function in each iteration."
   ]
  },
  {
   "cell_type": "code",
   "execution_count": 11,
   "metadata": {
    "id": "eE4Rk0YpX4Qj"
   },
   "outputs": [],
   "source": [
    "def augment_api_request_body(user_query, image):\n",
    "    messages = [\n",
    "        {\n",
    "            \"role\": \"user\",\n",
    "            \"content\": [{\n",
    "                \"type\": \"text\",\n",
    "                \"text\": (\n",
    "                    \"You are an intelligent vision-based assistant specialized in agricultural diagnostics and guidance. \"\n",
    "                    \"Your task is to analyze the provided plant image, which may depict a healthy, diseased, or abnormal plant. \"\n",
    "                    \"Provide an accurate, concise response in 1–2 sentences to address the user's query: \" + user_query\n",
    "                )\n",
    "            },\n",
    "            {\n",
    "                \"type\": \"image_url\",\n",
    "                \"image_url\": {\n",
    "                    \"url\": f\"data:image/jpeg;base64,{image}\",\n",
    "                }\n",
    "            }]\n",
    "        }\n",
    "    ]\n",
    "    return messages\n"
   ]
  },
  {
   "cell_type": "markdown",
   "metadata": {
    "id": "vdvlUTgvX4Qj"
   },
   "source": [
    "Let's instantiate the model interface using the `ModelInference` class. In this tutorial, we will use the the `mistralai/pixtral-12b` model."
   ]
  },
  {
   "cell_type": "code",
   "execution_count": 12,
   "metadata": {
    "id": "beh92qR4X4Qj"
   },
   "outputs": [],
   "source": [
    "model = ModelInference(\n",
    "    model_id=\"meta-llama/llama-3-2-11b-vision-instruct\",\n",
    "    credentials=credentials,\n",
    "    project_id=WATSONX_EU_PROJECT_ID,\n",
    "    params={\n",
    "        \"max_tokens\": 100\n",
    "      }\n",
    ")\n",
    "#    model_id=\"meta-llama/llama-3-2-90b-vision-instruct\",\n"
   ]
  },
  {
   "cell_type": "code",
   "execution_count": 13,
   "metadata": {
    "colab": {
     "base_uri": "https://localhost:8080/",
     "height": 463
    },
    "id": "_Gi_Y2IgX4Qk",
    "outputId": "196756dd-3085-4dec-faf0-fcc695d5d672"
   },
   "outputs": [
    {
     "name": "stderr",
     "output_type": "stream",
     "text": [
      "Failure during chat. (POST https://us-south.ml.cloud.ibm.com/ml/v1/text/chat?version=2025-01-10)\n",
      "Status code: 403, body: {\"errors\":[{\"code\":\"token_quota_reached\",\"message\":\"Request of 1 token(s) from quota was rejected\",\"more_info\":\"https://cloud.ibm.com/apidocs/watsonx-ai\"}],\"trace\":\"309c62124ad48577c97d1c600db4903e\",\"status_code\":403}\n"
     ]
    },
    {
     "ename": "ApiRequestFailure",
     "evalue": "Failure during chat. (POST https://us-south.ml.cloud.ibm.com/ml/v1/text/chat?version=2025-01-10)\nStatus code: 403, body: {\"errors\":[{\"code\":\"token_quota_reached\",\"message\":\"Request of 1 token(s) from quota was rejected\",\"more_info\":\"https://cloud.ibm.com/apidocs/watsonx-ai\"}],\"trace\":\"309c62124ad48577c97d1c600db4903e\",\"status_code\":403}",
     "output_type": "error",
     "traceback": [
      "\u001b[1;31m---------------------------------------------------------------------------\u001b[0m",
      "\u001b[1;31mApiRequestFailure\u001b[0m                         Traceback (most recent call last)",
      "Cell \u001b[1;32mIn[13], line 8\u001b[0m\n\u001b[0;32m      4\u001b[0m user_query \u001b[38;5;241m=\u001b[39m \u001b[38;5;124m\"\u001b[39m\u001b[38;5;124mIs this plant healthy? If not then what disease is this plant having?\u001b[39m\u001b[38;5;124m\"\u001b[39m\n\u001b[0;32m      6\u001b[0m messages \u001b[38;5;241m=\u001b[39m augment_api_request_body(user_query, image)\n\u001b[1;32m----> 8\u001b[0m response \u001b[38;5;241m=\u001b[39m \u001b[43mmodel\u001b[49m\u001b[38;5;241;43m.\u001b[39;49m\u001b[43mchat\u001b[49m\u001b[43m(\u001b[49m\u001b[43mmessages\u001b[49m\u001b[38;5;241;43m=\u001b[39;49m\u001b[43mmessages\u001b[49m\u001b[43m)\u001b[49m\n\u001b[0;32m     10\u001b[0m \u001b[38;5;28mprint\u001b[39m(response[\u001b[38;5;124m'\u001b[39m\u001b[38;5;124mchoices\u001b[39m\u001b[38;5;124m'\u001b[39m][\u001b[38;5;241m0\u001b[39m][\u001b[38;5;124m'\u001b[39m\u001b[38;5;124mmessage\u001b[39m\u001b[38;5;124m'\u001b[39m][\u001b[38;5;124m'\u001b[39m\u001b[38;5;124mcontent\u001b[39m\u001b[38;5;124m'\u001b[39m])\n",
      "File \u001b[1;32mc:\\Users\\Ramsha\\AppData\\Local\\Programs\\Python\\Python312\\Lib\\site-packages\\ibm_watsonx_ai\\foundation_models\\inference\\model_inference.py:277\u001b[0m, in \u001b[0;36mModelInference.chat\u001b[1;34m(self, messages, params, tools, tool_choice, tool_choice_option)\u001b[0m\n\u001b[0;32m    272\u001b[0m \u001b[38;5;28;01mif\u001b[39;00m \u001b[38;5;28mself\u001b[39m\u001b[38;5;241m.\u001b[39mmodel_id \u001b[38;5;129;01mis\u001b[39;00m \u001b[38;5;28;01mNone\u001b[39;00m:\n\u001b[0;32m    273\u001b[0m     \u001b[38;5;28;01mraise\u001b[39;00m WMLClientError(\n\u001b[0;32m    274\u001b[0m         Messages\u001b[38;5;241m.\u001b[39mget_message(message_id\u001b[38;5;241m=\u001b[39m\u001b[38;5;124m\"\u001b[39m\u001b[38;5;124mchat_deployment_scenario\u001b[39m\u001b[38;5;124m\"\u001b[39m)\n\u001b[0;32m    275\u001b[0m     )\n\u001b[1;32m--> 277\u001b[0m \u001b[38;5;28;01mreturn\u001b[39;00m \u001b[38;5;28;43mself\u001b[39;49m\u001b[38;5;241;43m.\u001b[39;49m\u001b[43m_inference\u001b[49m\u001b[38;5;241;43m.\u001b[39;49m\u001b[43mchat\u001b[49m\u001b[43m(\u001b[49m\n\u001b[0;32m    278\u001b[0m \u001b[43m    \u001b[49m\u001b[43mmessages\u001b[49m\u001b[38;5;241;43m=\u001b[39;49m\u001b[43mmessages\u001b[49m\u001b[43m,\u001b[49m\n\u001b[0;32m    279\u001b[0m \u001b[43m    \u001b[49m\u001b[43mparams\u001b[49m\u001b[38;5;241;43m=\u001b[39;49m\u001b[43mparams\u001b[49m\u001b[43m,\u001b[49m\n\u001b[0;32m    280\u001b[0m \u001b[43m    \u001b[49m\u001b[43mtools\u001b[49m\u001b[38;5;241;43m=\u001b[39;49m\u001b[43mtools\u001b[49m\u001b[43m,\u001b[49m\n\u001b[0;32m    281\u001b[0m \u001b[43m    \u001b[49m\u001b[43mtool_choice\u001b[49m\u001b[38;5;241;43m=\u001b[39;49m\u001b[43mtool_choice\u001b[49m\u001b[43m,\u001b[49m\n\u001b[0;32m    282\u001b[0m \u001b[43m    \u001b[49m\u001b[43mtool_choice_option\u001b[49m\u001b[38;5;241;43m=\u001b[39;49m\u001b[43mtool_choice_option\u001b[49m\u001b[43m,\u001b[49m\n\u001b[0;32m    283\u001b[0m \u001b[43m\u001b[49m\u001b[43m)\u001b[49m\n",
      "File \u001b[1;32mc:\\Users\\Ramsha\\AppData\\Local\\Programs\\Python\\Python312\\Lib\\site-packages\\ibm_watsonx_ai\\foundation_models\\inference\\fm_model_inference.py:129\u001b[0m, in \u001b[0;36mFMModelInference.chat\u001b[1;34m(self, messages, params, tools, tool_choice, tool_choice_option)\u001b[0m\n\u001b[0;32m    116\u001b[0m \u001b[38;5;28;01mdef\u001b[39;00m \u001b[38;5;21mchat\u001b[39m(\n\u001b[0;32m    117\u001b[0m     \u001b[38;5;28mself\u001b[39m,\n\u001b[0;32m    118\u001b[0m     messages: \u001b[38;5;28mlist\u001b[39m[\u001b[38;5;28mdict\u001b[39m],\n\u001b[1;32m   (...)\u001b[0m\n\u001b[0;32m    122\u001b[0m     tool_choice_option: Literal[\u001b[38;5;124m\"\u001b[39m\u001b[38;5;124mnone\u001b[39m\u001b[38;5;124m\"\u001b[39m, \u001b[38;5;124m\"\u001b[39m\u001b[38;5;124mauto\u001b[39m\u001b[38;5;124m\"\u001b[39m] \u001b[38;5;241m|\u001b[39m \u001b[38;5;28;01mNone\u001b[39;00m \u001b[38;5;241m=\u001b[39m \u001b[38;5;28;01mNone\u001b[39;00m,\n\u001b[0;32m    123\u001b[0m ) \u001b[38;5;241m-\u001b[39m\u001b[38;5;241m>\u001b[39m \u001b[38;5;28mdict\u001b[39m:\n\u001b[0;32m    125\u001b[0m     text_chat_url \u001b[38;5;241m=\u001b[39m (\n\u001b[0;32m    126\u001b[0m         \u001b[38;5;28mself\u001b[39m\u001b[38;5;241m.\u001b[39m_client\u001b[38;5;241m.\u001b[39mservice_instance\u001b[38;5;241m.\u001b[39m_href_definitions\u001b[38;5;241m.\u001b[39mget_fm_chat_href(\u001b[38;5;124m\"\u001b[39m\u001b[38;5;124mchat\u001b[39m\u001b[38;5;124m\"\u001b[39m)\n\u001b[0;32m    127\u001b[0m     )\n\u001b[1;32m--> 129\u001b[0m     \u001b[38;5;28;01mreturn\u001b[39;00m \u001b[38;5;28;43mself\u001b[39;49m\u001b[38;5;241;43m.\u001b[39;49m\u001b[43m_send_chat_payload\u001b[49m\u001b[43m(\u001b[49m\n\u001b[0;32m    130\u001b[0m \u001b[43m        \u001b[49m\u001b[43mmessages\u001b[49m\u001b[38;5;241;43m=\u001b[39;49m\u001b[43mmessages\u001b[49m\u001b[43m,\u001b[49m\n\u001b[0;32m    131\u001b[0m \u001b[43m        \u001b[49m\u001b[43mparams\u001b[49m\u001b[38;5;241;43m=\u001b[39;49m\u001b[43mparams\u001b[49m\u001b[43m,\u001b[49m\n\u001b[0;32m    132\u001b[0m \u001b[43m        \u001b[49m\u001b[43mgenerate_url\u001b[49m\u001b[38;5;241;43m=\u001b[39;49m\u001b[43mtext_chat_url\u001b[49m\u001b[43m,\u001b[49m\n\u001b[0;32m    133\u001b[0m \u001b[43m        \u001b[49m\u001b[43mtools\u001b[49m\u001b[38;5;241;43m=\u001b[39;49m\u001b[43mtools\u001b[49m\u001b[43m,\u001b[49m\n\u001b[0;32m    134\u001b[0m \u001b[43m        \u001b[49m\u001b[43mtool_choice\u001b[49m\u001b[38;5;241;43m=\u001b[39;49m\u001b[43mtool_choice\u001b[49m\u001b[43m,\u001b[49m\n\u001b[0;32m    135\u001b[0m \u001b[43m        \u001b[49m\u001b[43mtool_choice_option\u001b[49m\u001b[38;5;241;43m=\u001b[39;49m\u001b[43mtool_choice_option\u001b[49m\u001b[43m,\u001b[49m\n\u001b[0;32m    136\u001b[0m \u001b[43m    \u001b[49m\u001b[43m)\u001b[49m\n",
      "File \u001b[1;32mc:\\Users\\Ramsha\\AppData\\Local\\Programs\\Python\\Python312\\Lib\\site-packages\\ibm_watsonx_ai\\foundation_models\\inference\\base_model_inference.py:289\u001b[0m, in \u001b[0;36mBaseModelInference._send_chat_payload\u001b[1;34m(self, messages, params, generate_url, tools, tool_choice, tool_choice_option)\u001b[0m\n\u001b[0;32m    285\u001b[0m     post_params[\u001b[38;5;124m\"\u001b[39m\u001b[38;5;124m_retry_status_codes\u001b[39m\u001b[38;5;124m\"\u001b[39m] \u001b[38;5;241m=\u001b[39m _RETRY_STATUS_CODES\n\u001b[0;32m    287\u001b[0m response_scoring \u001b[38;5;241m=\u001b[39m \u001b[38;5;28mself\u001b[39m\u001b[38;5;241m.\u001b[39m_http_client\u001b[38;5;241m.\u001b[39mpost(\u001b[38;5;241m*\u001b[39m\u001b[38;5;241m*\u001b[39mpost_params)\n\u001b[1;32m--> 289\u001b[0m \u001b[38;5;28;01mreturn\u001b[39;00m \u001b[38;5;28;43mself\u001b[39;49m\u001b[38;5;241;43m.\u001b[39;49m\u001b[43m_handle_response\u001b[49m\u001b[43m(\u001b[49m\n\u001b[0;32m    290\u001b[0m \u001b[43m    \u001b[49m\u001b[38;5;241;43m200\u001b[39;49m\u001b[43m,\u001b[49m\n\u001b[0;32m    291\u001b[0m \u001b[43m    \u001b[49m\u001b[38;5;124;43m\"\u001b[39;49m\u001b[38;5;124;43mchat\u001b[39;49m\u001b[38;5;124;43m\"\u001b[39;49m\u001b[43m,\u001b[49m\n\u001b[0;32m    292\u001b[0m \u001b[43m    \u001b[49m\u001b[43mresponse_scoring\u001b[49m\u001b[43m,\u001b[49m\n\u001b[0;32m    293\u001b[0m \u001b[43m    \u001b[49m\u001b[43m_field_to_hide\u001b[49m\u001b[38;5;241;43m=\u001b[39;49m\u001b[38;5;124;43m\"\u001b[39;49m\u001b[38;5;124;43mchoices\u001b[39;49m\u001b[38;5;124;43m\"\u001b[39;49m\u001b[43m,\u001b[49m\n\u001b[0;32m    294\u001b[0m \u001b[43m\u001b[49m\u001b[43m)\u001b[49m\n",
      "File \u001b[1;32mc:\\Users\\Ramsha\\AppData\\Local\\Programs\\Python\\Python312\\Lib\\site-packages\\ibm_watsonx_ai\\wml_resource.py:155\u001b[0m, in \u001b[0;36mWMLResource._handle_response\u001b[1;34m(self, expected_status_code, operationName, response, json_response, _silent_response_logging, _field_to_hide)\u001b[0m\n\u001b[0;32m    153\u001b[0m         \u001b[38;5;28;01mreturn\u001b[39;00m response\u001b[38;5;241m.\u001b[39mtext\n\u001b[0;32m    154\u001b[0m \u001b[38;5;28;01melse\u001b[39;00m:\n\u001b[1;32m--> 155\u001b[0m     \u001b[38;5;28;01mraise\u001b[39;00m ApiRequestFailure(\n\u001b[0;32m    156\u001b[0m         \u001b[38;5;124m\"\u001b[39m\u001b[38;5;124mFailure during \u001b[39m\u001b[38;5;132;01m{}\u001b[39;00m\u001b[38;5;124m.\u001b[39m\u001b[38;5;124m\"\u001b[39m\u001b[38;5;241m.\u001b[39mformat(operationName),\n\u001b[0;32m    157\u001b[0m         response,\n\u001b[0;32m    158\u001b[0m     )\n",
      "\u001b[1;31mApiRequestFailure\u001b[0m: Failure during chat. (POST https://us-south.ml.cloud.ibm.com/ml/v1/text/chat?version=2025-01-10)\nStatus code: 403, body: {\"errors\":[{\"code\":\"token_quota_reached\",\"message\":\"Request of 1 token(s) from quota was rejected\",\"more_info\":\"https://cloud.ibm.com/apidocs/watsonx-ai\"}],\"trace\":\"309c62124ad48577c97d1c600db4903e\",\"status_code\":403}"
     ]
    }
   ],
   "source": [
    "for i in range(len(encoded_images)):\n",
    "\timage = encoded_images[i]\n",
    "\n",
    "\tuser_query = \"Is this plant healthy? If not then what disease is this plant having?\"\n",
    "\n",
    "\tmessages = augment_api_request_body(user_query, image)\n",
    "\n",
    "\tresponse = model.chat(messages=messages)\n",
    "\n",
    "\tprint(response['choices'][0]['message']['content'])"
   ]
  },
  {
   "cell_type": "code",
   "execution_count": 55,
   "metadata": {
    "colab": {
     "background_save": true
    },
    "id": "bBVMjBW0X4Qk"
   },
   "outputs": [],
   "source": [
    "# image = encoded_images[0]\n",
    "\n",
    "# user_query = \"what are the treatment plans for this?\"\n",
    "\n",
    "# messages = augment_api_request_body(user_query, image)\n",
    "\n",
    "# response = model.chat(messages=messages)\n",
    "\n",
    "# print(response['choices'][0]['message']['content'])"
   ]
  },
  {
   "cell_type": "markdown",
   "metadata": {
    "id": "11xEbC4yX4Ql"
   },
   "source": [
    "The model correctly identified the object in the woman's hand. Now, let's inquire about the issue in the image of the car covered in snow."
   ]
  }
 ],
 "metadata": {
  "colab": {
   "provenance": []
  },
  "kernelspec": {
   "display_name": "Python 3",
   "language": "python",
   "name": "python3"
  },
  "language_info": {
   "codemirror_mode": {
    "name": "ipython",
    "version": 3
   },
   "file_extension": ".py",
   "mimetype": "text/x-python",
   "name": "python",
   "nbconvert_exporter": "python",
   "pygments_lexer": "ipython3",
   "version": "3.12.3"
  }
 },
 "nbformat": 4,
 "nbformat_minor": 4
}
